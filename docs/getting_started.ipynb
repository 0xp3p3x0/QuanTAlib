{
 "cells": [
  {
   "cell_type": "markdown",
   "metadata": {
    "dotnet_interactive": {
     "language": "csharp"
    },
    "polyglot_notebook": {
     "kernelName": "csharp"
    }
   },
   "source": [
    "# Quick Start\n",
    "\n",
    "In order to use this .NET Interactive Notebook and play along with QuanTAlib (outside of making your own app or plugging QuanTAlib into Quantower platform), you will need:\n",
    "\n",
    "- Installed <a href=\"https://code.visualstudio.com/\" target=\"_blank\">Visual Studio Code</a>\n",
    "- Installed <a href=\"https://dotnet.microsoft.com/download/dotnet/6.0\" target=\"_blank\">.NET 6 SDK</a>\n",
    "- Installed <a href=\"https://marketplace.visualstudio.com/items?itemName=ms-dotnettools.dotnet-interactive-vscode\" target=\"_blank\">.NET Interactive Notebooks</a> extension\n",
    "\n",
    "**For impatient**, here is a simple example of calculating three moving averages - SMA(data), EMA(SMA(data)) and WMA(EMA(SMA(data))) from 10 days of AAPL stock data using QuanTAlib:"
   ]
  },
  {
   "cell_type": "code",
   "execution_count": null,
   "metadata": {
    "dotnet_interactive": {
     "language": "csharp"
    },
    "vscode": {
     "languageId": "polyglot-notebook"
    }
   },
   "outputs": [],
   "source": [
    "#r \"nuget:QuanTAlib;\"\n",
    "using QuanTAlib;\n",
    "\n",
    "Yahoo_Feed aapl = new(\"AAPL\", 10);\n",
    "TSeries data = aapl.Close;\n",
    "SMA_Series sma = new(source: data, period: 5, useNaN: false);\n",
    "EMA_Series ema = new(sma, period: 5);                   // by default, indicators expose all data, no NaN values\n",
    "WMA_Series wma = new(ema, 5, useNaN: true);             // for the final calculation we can hide early data with NaNs\n",
    "\n",
    "Console.Write($\"index\\t data\\t\\t sma(data)\\t ema(sma(data))\\t wma(ema(sma(data)))\\n\");\n",
    "for (int i=0; i<aapl.Count; i++)\n",
    "    Console.Write($\"{i}\\t {data[i].t:yyyy-MM-dd}\\t {sma[i].v:f2}\\t\\t {ema[i].v:f2}\\t\\t {wma[i].v:f2}\\n\");"
   ]
  },
  {
   "cell_type": "markdown",
   "metadata": {
    "dotnet_interactive": {
     "language": "csharp"
    },
    "polyglot_notebook": {
     "kernelName": "csharp"
    }
   },
   "source": [
    "## Understanding QuanTAlib data model\n",
    "\n",
    "QuanTAlib expects that every data item is a tuple (TimeDate t, double v) and TSeries is a list of (t,v) tuples. There are several helpers built into the TSeries class to simplify adding elements:"
   ]
  },
  {
   "cell_type": "code",
   "execution_count": null,
   "metadata": {
    "dotnet_interactive": {
     "language": "csharp"
    },
    "vscode": {
     "languageId": "polyglot-notebook"
    }
   },
   "outputs": [],
   "source": [
    "var item1 = (DateTime.Today, 105.3);        // (DateTime, Value) tuple\n",
    "double item2 = 293.1;                       // a simple double\n",
    "\n",
    "TSeries data = new();\n",
    "data.Add(item1);                            // adding tuple variable\n",
    "data.Add(item2);                            // QuanTAlib stamps the (double) with current time\n",
    "data.Add(0);                                // directly adding a number (stamped with current time)\n",
    "data.Add((DateTime.Now.AddDays(-3), 10));   // adding a tuple with timestamp 3 days ago\n",
    "\n",
    "data"
   ]
  },
  {
   "cell_type": "markdown",
   "metadata": {
    "dotnet_interactive": {
     "language": "csharp"
    },
    "polyglot_notebook": {
     "kernelName": "csharp"
    }
   },
   "source": [
    "TSeries list can display only values (without timestamps) or only timestamps (without values) by using `.v` or `.t` properties"
   ]
  },
  {
   "cell_type": "code",
   "execution_count": null,
   "metadata": {
    "dotnet_interactive": {
     "language": "csharp"
    },
    "vscode": {
     "languageId": "polyglot-notebook"
    }
   },
   "outputs": [],
   "source": [
    "data.v"
   ]
  },
  {
   "cell_type": "markdown",
   "metadata": {
    "dotnet_interactive": {
     "language": "csharp"
    },
    "polyglot_notebook": {
     "kernelName": "csharp"
    }
   },
   "source": [
    "The last element on the list can be accessed by .Last() or by [^1] - and using `.t` (time) and `.v` (value) properties. Also, casting a TSeries into (double) will return the value of the last element"
   ]
  },
  {
   "cell_type": "code",
   "execution_count": null,
   "metadata": {
    "dotnet_interactive": {
     "language": "csharp"
    },
    "vscode": {
     "languageId": "polyglot-notebook"
    }
   },
   "outputs": [],
   "source": [
    "bool IsTheSame = data.Last().v == data[^1].v;\n",
    "double lastvalue = data;\n",
    "\n",
    "lastvalue"
   ]
  },
  {
   "cell_type": "markdown",
   "metadata": {
    "dotnet_interactive": {
     "language": "csharp"
    },
    "polyglot_notebook": {
     "kernelName": "csharp"
    }
   },
   "source": [
    "All indicators are just modified TSeries classes; they get all required input during class construction (source of the datafeed, period...) and they automatically subscribe to events of the datafeed. Whenever datafeed gets a new value, indicator will calculate its own value. Indicators are also event publishers, so other indicators can subscribe to their results, chaining indicators together:"
   ]
  },
  {
   "cell_type": "code",
   "execution_count": null,
   "metadata": {
    "dotnet_interactive": {
     "language": "csharp"
    },
    "vscode": {
     "languageId": "polyglot-notebook"
    }
   },
   "outputs": [],
   "source": [
    "TSeries t1 = new() {0,1,2,3,4,5,6,7,8,9}; // t1 is loaded with data and activated as a publisher\n",
    "EMA_Series t2 = new(t1, 3);     // t2 will auto-load all history of t1 and wait for events from t1\n",
    "ADD_Series t3 = new(t1, t2);    // t3 is an ADDition of t1 and t2 - will also load history and wait for t2 events\n",
    "DIV_Series t4 = new(1, t3);     // t4 is calculating 1/t3 - and waiting for t3 events\n",
    "\n",
    "TSeries t5 = new();             // a wild indicator appeared! And it is empty!\n",
    "t4.Pub += t5.Sub;               // let us add a manual subscription to events coming from t4 - t5 is now listening to t4\n",
    "t1.Add(0);                      // we add one new value to t1 - and trigger the full cascade of calculation! t5 is now full!\n",
    "\n",
    "t5.v"
   ]
  },
  {
   "cell_type": "markdown",
   "metadata": {
    "dotnet_interactive": {
     "language": "csharp"
    },
    "polyglot_notebook": {
     "kernelName": "csharp"
    }
   },
   "source": [
    "# MACD compounded indicator\n",
    "\n",
    "With QuanTAlib we can chain indicators together, creating complex compounded indicators. For example, we can create Moving Average Convergence/Divergence (MACD) indicators by chaining all required operations in a sequence:"
   ]
  },
  {
   "cell_type": "code",
   "execution_count": null,
   "metadata": {
    "dotnet_interactive": {
     "language": "csharp"
    },
    "vscode": {
     "languageId": "polyglot-notebook"
    }
   },
   "outputs": [],
   "source": [
    "Yahoo_Feed aapl = new(\"AAPL\", 100);\n",
    "TSeries close = aapl.Close;                 // close will get data from history\n",
    "EMA_Series slow = new(close,26);            // slow gets data from slow through pub-sub eventing\n",
    "EMA_Series fast = new(close,12);            // fast gets data from slow (via eventing)\n",
    "SUB_Series macd = new(fast,slow);           // macd is a SUBtraction: fast-slow\n",
    "EMA_Series signal = new(macd,9);            // signal is EMA of macd\n",
    "SUB_Series histogram = new(macd, signal);   // histogram is SUBtraction macd-signal\n",
    "\n",
    "histogram.v\n"
   ]
  }
 ],
 "metadata": {
  "kernelspec": {
   "display_name": ".NET (C#)",
   "language": "C#",
   "name": ".net-csharp"
  },
  "polyglot_notebook": {
   "kernelInfo": {
    "defaultKernelName": "csharp",
    "items": [
     {
      "aliases": [
       "c#",
       "C#"
      ],
      "languageName": "C#",
      "name": "csharp"
     },
     {
      "aliases": [
       "frontend"
      ],
      "languageName": null,
      "name": "vscode"
     },
     {
      "aliases": [],
      "languageName": "KQL",
      "name": "kql"
     }
    ]
   }
  }
 },
 "nbformat": 4,
 "nbformat_minor": 2
}
